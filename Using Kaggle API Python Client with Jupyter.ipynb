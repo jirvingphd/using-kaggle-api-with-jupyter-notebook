{
 "cells": [
  {
   "cell_type": "markdown",
   "id": "e2e71c63",
   "metadata": {},
   "source": [
    "# Using Kaggle API Python Client with Jupyter"
   ]
  },
  {
   "cell_type": "markdown",
   "id": "b38c5691",
   "metadata": {},
   "source": [
    "- Kaggle API Package: https://github.com/Kaggle/kaggle-api \n",
    "\n",
    "\n",
    "- Official API Credential Instructions\n",
    "    - https://github.com/Kaggle/kaggle-api#api-credentials"
   ]
  },
  {
   "cell_type": "markdown",
   "id": "cce43ecc",
   "metadata": {},
   "source": [
    "## Creating a Kaggle API Token"
   ]
  },
  {
   "cell_type": "markdown",
   "id": "133853c9",
   "metadata": {},
   "source": [
    ">- Please follow the steps below to download and use kaggle data within Python. (Original Source: https://github.com/Kaggle/kaggle-api#api-credentials)\n",
    "1. Log into www.kaggle.com \n",
    "\n",
    "\n",
    "2. Go to your Account page <br>(Click on your profile pic in top right corner of website and select Account)\n",
    "\n",
    "\n",
    "3. Scroll down to API section and:\n",
    "     - Click Expire API Token to remove previous tokens.\n",
    "     - Click on **Create New API Token** \n",
    "         - It will download `kaggle.json` file on your machine that needs to be moved to a special \"~/.kaggle\" folder.\n",
    "\n",
    "\n",
    "4. Make the `~/.kaggle/` folder.\n",
    "    - Short Relative Filepath version:\n",
    "        - `mkdir ~/.kaggle/`\n",
    "    - Full Absolute Filepath Version:\n",
    "        - will be something like:   \n",
    "        `mkdir \"/Users/YOUR-USERNAME/.kaggle/`\n",
    "        - or: `mkdir \"/c/Users/YOUR-USERNAME/.kaggle\"`\n",
    "\n",
    "\n",
    "        \n",
    "5. Move the kaggle.json file to the new `.kaggle` folder.\n",
    "    - See the [\"API Credentials\" section of the kaggle api README for details](https://github.com/Kaggle/kaggle-api#api-credentials)\n",
    "    - Example shell command:\n",
    "    `cp ~/Downloads/kaggle.json ~/.kaggle/`\n",
    "    \n",
    "    \n",
    "    \n",
    "6. Change access permissions to just your user account\n",
    "    `chmod 600 ~/.kaggle/kaggle.json`\n",
    "    \n",
    "    \n",
    "7. Confirm the API credentials work.\n",
    "    - Run the command to list datasets:\n",
    "    `kaggle datasets list`\n",
    "    \n",
    "    \n",
    "8. Remove the kaggle.json from the downloads folder:\n",
    "    `rm ~/kaggle.json`\n",
    "    \n"
   ]
  },
  {
   "cell_type": "markdown",
   "id": "5c068c56",
   "metadata": {},
   "source": [
    "# Downloading Data with the Kaggle API"
   ]
  },
  {
   "cell_type": "markdown",
   "id": "6e3fb181",
   "metadata": {},
   "source": [
    "## From the Shell"
   ]
  },
  {
   "cell_type": "markdown",
   "id": "6b79051c",
   "metadata": {},
   "source": [
    ">- On any dataset listing on Kaggle, click on the `...` on the menu and select \"Copy API Command\"\n",
    "  - paste the command in a cell and add a `!` to the beginning.\n",
    "    - e.g. `!kaggle datasets download -d jillanisofttech/fake-or-real-news`\n",
    "  - Then, run `!unzip` on the name of the dataset source (the last part of the api command).\n",
    "    - e.g. `!unzip fake-or-real-news.zip` "
   ]
  },
  {
   "cell_type": "markdown",
   "id": "5b17a86e",
   "metadata": {},
   "source": [
    "### Example Shell Command for Downloading a Dataset\n",
    "```python\n",
    "!kaggle datasets download -d jillanisofttech/fake-or-real-news\n",
    "!unzip fake-or-real-news\n",
    "```"
   ]
  },
  {
   "cell_type": "markdown",
   "id": "1514f698",
   "metadata": {},
   "source": [
    "## Using Kaggle Api - From Jupyter"
   ]
  },
  {
   "cell_type": "code",
   "execution_count": 1,
   "id": "475a8998",
   "metadata": {},
   "outputs": [],
   "source": [
    "## Using the kaggle.api          \n",
    "import kaggle.api as kaggle     \n",
    "kaggle.authenticate()"
   ]
  },
  {
   "cell_type": "code",
   "execution_count": 2,
   "id": "ff2121e7",
   "metadata": {},
   "outputs": [],
   "source": [
    "## Folder for downloaded dataset\n",
    "import os, glob\n",
    "path = \"Data/\"\n",
    "os.makedirs(path, exist_ok=True)"
   ]
  },
  {
   "cell_type": "markdown",
   "id": "767d73d1",
   "metadata": {},
   "source": [
    "- On any dataset listing on Kaggle, click on the ... on the menu and select \"Copy API Command\""
   ]
  },
  {
   "cell_type": "code",
   "execution_count": 3,
   "id": "dcf63745",
   "metadata": {},
   "outputs": [
    {
     "name": "stdout",
     "output_type": "stream",
     "text": [
      "Kaggle Dataset name = 'catherinerasgaitis/mxmh-survey-results'\n"
     ]
    },
    {
     "data": {
      "text/plain": [
       "'Data/mxmh-survey-results/'"
      ]
     },
     "execution_count": 3,
     "metadata": {},
     "output_type": "execute_result"
    }
   ],
   "source": [
    "## Paste in API command from kaggle\n",
    "API_COMMAND = \"kaggle datasets download -d catherinerasgaitis/mxmh-survey-results\"\n",
    "\n",
    "## Get just the dataset name\n",
    "dataset_name = API_COMMAND.split(' -d ')[1]\n",
    "print(f\"Kaggle Dataset name = '{dataset_name}'\")\n",
    "\n",
    "data_fpath = f\"{path}{dataset_name.split('/')[-1]}/\"\n",
    "os.makedirs(data_fpath, exist_ok=True)\n",
    "data_fpath"
   ]
  },
  {
   "cell_type": "markdown",
   "id": "0b558322",
   "metadata": {},
   "source": [
    "### Using `kaggle.dataset_download_files`"
   ]
  },
  {
   "cell_type": "markdown",
   "id": "b92d49c2",
   "metadata": {},
   "source": [
    "```\n",
    "Signature:\n",
    "kaggle.dataset_download_files(\n",
    "    dataset,\n",
    "    path=None,\n",
    "    force=False,\n",
    "    quiet=True,\n",
    "    unzip=False,\n",
    ")\n",
    "Docstring:\n",
    "download all files for a dataset\n",
    "\n",
    "Parameters\n",
    "==========\n",
    "dataset: the string identified of the dataset\n",
    "         should be in format [owner]/[dataset-name]\n",
    "path: the path to download the dataset to\n",
    "force: force the download if the file already exists (default False)\n",
    "quiet: suppress verbose output (default is True)\n",
    "unzip: if True, unzip files upon download (default is False)\n",
    "```"
   ]
  },
  {
   "cell_type": "code",
   "execution_count": 4,
   "id": "6580b99b",
   "metadata": {},
   "outputs": [],
   "source": [
    " ## Download dataset\n",
    "kaggle.dataset_download_files(dataset_name, \n",
    "                              path=data_fpath,\n",
    "                              force=True,\n",
    "                              unzip=True)"
   ]
  },
  {
   "cell_type": "code",
   "execution_count": 5,
   "id": "0e27d9a4",
   "metadata": {},
   "outputs": [
    {
     "name": "stdout",
     "output_type": "stream",
     "text": [
      "[i] Files from catherinerasgaitis/mxmh-survey-results:\n",
      "  - Data/mxmh-survey-results/mxmh_survey_results.csv\n"
     ]
    }
   ],
   "source": [
    "## Get list of downloaded files\n",
    "print(f\"[i] Files from {dataset_name}:\")\n",
    "\n",
    "dl_files = glob.glob(data_fpath+\"*\")\n",
    "[print(f\"  - {file}\") for file in dl_files];"
   ]
  },
  {
   "cell_type": "code",
   "execution_count": 6,
   "id": "8ae06358",
   "metadata": {},
   "outputs": [
    {
     "data": {
      "text/html": [
       "<div>\n",
       "<style scoped>\n",
       "    .dataframe tbody tr th:only-of-type {\n",
       "        vertical-align: middle;\n",
       "    }\n",
       "\n",
       "    .dataframe tbody tr th {\n",
       "        vertical-align: top;\n",
       "    }\n",
       "\n",
       "    .dataframe thead th {\n",
       "        text-align: right;\n",
       "    }\n",
       "</style>\n",
       "<table border=\"1\" class=\"dataframe\">\n",
       "  <thead>\n",
       "    <tr style=\"text-align: right;\">\n",
       "      <th></th>\n",
       "      <th>Timestamp</th>\n",
       "      <th>Age</th>\n",
       "      <th>Primary streaming service</th>\n",
       "      <th>Hours per day</th>\n",
       "      <th>While working</th>\n",
       "      <th>Instrumentalist</th>\n",
       "      <th>Composer</th>\n",
       "      <th>Fav genre</th>\n",
       "      <th>Exploratory</th>\n",
       "      <th>Foreign languages</th>\n",
       "      <th>...</th>\n",
       "      <th>Frequency [R&amp;B]</th>\n",
       "      <th>Frequency [Rap]</th>\n",
       "      <th>Frequency [Rock]</th>\n",
       "      <th>Frequency [Video game music]</th>\n",
       "      <th>Anxiety</th>\n",
       "      <th>Depression</th>\n",
       "      <th>Insomnia</th>\n",
       "      <th>OCD</th>\n",
       "      <th>Music effects</th>\n",
       "      <th>Permissions</th>\n",
       "    </tr>\n",
       "  </thead>\n",
       "  <tbody>\n",
       "    <tr>\n",
       "      <th>0</th>\n",
       "      <td>8/27/2022 19:29:02</td>\n",
       "      <td>18.0</td>\n",
       "      <td>Spotify</td>\n",
       "      <td>3.0</td>\n",
       "      <td>Yes</td>\n",
       "      <td>Yes</td>\n",
       "      <td>Yes</td>\n",
       "      <td>Latin</td>\n",
       "      <td>Yes</td>\n",
       "      <td>Yes</td>\n",
       "      <td>...</td>\n",
       "      <td>Sometimes</td>\n",
       "      <td>Very frequently</td>\n",
       "      <td>Never</td>\n",
       "      <td>Sometimes</td>\n",
       "      <td>3.0</td>\n",
       "      <td>0.0</td>\n",
       "      <td>1.0</td>\n",
       "      <td>0.0</td>\n",
       "      <td>NaN</td>\n",
       "      <td>I understand.</td>\n",
       "    </tr>\n",
       "    <tr>\n",
       "      <th>1</th>\n",
       "      <td>8/27/2022 19:57:31</td>\n",
       "      <td>63.0</td>\n",
       "      <td>Pandora</td>\n",
       "      <td>1.5</td>\n",
       "      <td>Yes</td>\n",
       "      <td>No</td>\n",
       "      <td>No</td>\n",
       "      <td>Rock</td>\n",
       "      <td>Yes</td>\n",
       "      <td>No</td>\n",
       "      <td>...</td>\n",
       "      <td>Sometimes</td>\n",
       "      <td>Rarely</td>\n",
       "      <td>Very frequently</td>\n",
       "      <td>Rarely</td>\n",
       "      <td>7.0</td>\n",
       "      <td>2.0</td>\n",
       "      <td>2.0</td>\n",
       "      <td>1.0</td>\n",
       "      <td>NaN</td>\n",
       "      <td>I understand.</td>\n",
       "    </tr>\n",
       "    <tr>\n",
       "      <th>2</th>\n",
       "      <td>8/27/2022 21:28:18</td>\n",
       "      <td>18.0</td>\n",
       "      <td>Spotify</td>\n",
       "      <td>4.0</td>\n",
       "      <td>No</td>\n",
       "      <td>No</td>\n",
       "      <td>No</td>\n",
       "      <td>Video game music</td>\n",
       "      <td>No</td>\n",
       "      <td>Yes</td>\n",
       "      <td>...</td>\n",
       "      <td>Never</td>\n",
       "      <td>Rarely</td>\n",
       "      <td>Rarely</td>\n",
       "      <td>Very frequently</td>\n",
       "      <td>7.0</td>\n",
       "      <td>7.0</td>\n",
       "      <td>10.0</td>\n",
       "      <td>2.0</td>\n",
       "      <td>No effect</td>\n",
       "      <td>I understand.</td>\n",
       "    </tr>\n",
       "  </tbody>\n",
       "</table>\n",
       "<p>3 rows × 33 columns</p>\n",
       "</div>"
      ],
      "text/plain": [
       "            Timestamp   Age Primary streaming service  Hours per day  \\\n",
       "0  8/27/2022 19:29:02  18.0                   Spotify            3.0   \n",
       "1  8/27/2022 19:57:31  63.0                   Pandora            1.5   \n",
       "2  8/27/2022 21:28:18  18.0                   Spotify            4.0   \n",
       "\n",
       "  While working Instrumentalist Composer         Fav genre Exploratory  \\\n",
       "0           Yes             Yes      Yes             Latin         Yes   \n",
       "1           Yes              No       No              Rock         Yes   \n",
       "2            No              No       No  Video game music          No   \n",
       "\n",
       "  Foreign languages  ...  Frequency [R&B]  Frequency [Rap] Frequency [Rock]  \\\n",
       "0               Yes  ...        Sometimes  Very frequently            Never   \n",
       "1                No  ...        Sometimes           Rarely  Very frequently   \n",
       "2               Yes  ...            Never           Rarely           Rarely   \n",
       "\n",
       "  Frequency [Video game music] Anxiety Depression Insomnia  OCD Music effects  \\\n",
       "0                    Sometimes     3.0        0.0      1.0  0.0           NaN   \n",
       "1                       Rarely     7.0        2.0      2.0  1.0           NaN   \n",
       "2              Very frequently     7.0        7.0     10.0  2.0     No effect   \n",
       "\n",
       "     Permissions  \n",
       "0  I understand.  \n",
       "1  I understand.  \n",
       "2  I understand.  \n",
       "\n",
       "[3 rows x 33 columns]"
      ]
     },
     "execution_count": 6,
     "metadata": {},
     "output_type": "execute_result"
    }
   ],
   "source": [
    "import pandas as pd\n",
    "df = pd.read_csv(dl_files[0])\n",
    "df.head(3)"
   ]
  },
  {
   "cell_type": "markdown",
   "id": "8ec4b303",
   "metadata": {},
   "source": [
    "___"
   ]
  },
  {
   "cell_type": "markdown",
   "id": "a1ac69cc",
   "metadata": {},
   "source": [
    "# Using Kaggle API on Google Colab"
   ]
  },
  {
   "cell_type": "markdown",
   "id": "2ffbf5d0",
   "metadata": {},
   "source": [
    "[Using the Kaggle API on Colab](https://www.kaggle.com/general/74235)"
   ]
  },
  {
   "cell_type": "markdown",
   "id": "bf955c87",
   "metadata": {},
   "source": [
    ">- Please follow the steps below to download and use kaggle data within Google Colab: <br> (Instructions adapted from [Using the Kaggle API on Colab](https://www.kaggle.com/general/74235))\n",
    "    1. Go to your account, Scroll to API section and **Click Expire API Token** to remove previous tokens.\n",
    "    2. Click on **Create New API Token** - It will download `kaggle.json` file on your machine.\n",
    "    3. Go to your Google Colab project file and run the following commands:\n",
    "        1. `!pip install -q kaggle`\n",
    "        2. `from google.colab import files`<br>`files.upload();`\n",
    "            - Choose the kaggle.json file that you downloaded\n",
    "        3. `!mkdir ~/.kaggle`<br>`!cp kaggle.json ~/.kaggle/`\n",
    "            - Make directory named kaggle and copy kaggle.json file there.\n",
    "        4. `!chmod 600 ~/.kaggle/kaggle.json`\n",
    "            - Change the permissions of the file.\n",
    "        5. Test the installation using: `! kaggle datasets list`\n",
    "        6. Remove the uploaded kaggle.json: \n",
    "            -  `!rm kaggle.json`\n",
    "\n",
    "> "
   ]
  },
  {
   "cell_type": "markdown",
   "id": "dbba5547",
   "metadata": {},
   "source": [
    "#### Uncomment the cells below for Colab"
   ]
  },
  {
   "cell_type": "code",
   "execution_count": 7,
   "id": "0e610af4",
   "metadata": {},
   "outputs": [],
   "source": [
    "# ## Install kaggle api and upkoad kaggle.json\n",
    "# ! pip install kaggle\n",
    "# from google.colab import files\n",
    "# files.upload();"
   ]
  },
  {
   "cell_type": "code",
   "execution_count": 8,
   "id": "84314a4c",
   "metadata": {},
   "outputs": [],
   "source": [
    "# ## Make .kaggle directory and copy json fil\n",
    "# ! mkdir ~/.kaggle\n",
    "# ! cp kaggle.json ~/.kaggle/\n",
    "\n",
    "#  ## Change the permissions on the kaggle.json file\n",
    "# !chmod 600 ~/.kaggle/kaggle.json\n",
    "\n",
    "# ## remove original uploaded copy of kaggle.json\n",
    "# !rm kaggle.json"
   ]
  },
  {
   "cell_type": "code",
   "execution_count": 9,
   "id": "3793133e",
   "metadata": {},
   "outputs": [],
   "source": [
    "# ## Check list of available datasetss\n",
    "# !kaggle datasets list"
   ]
  }
 ],
 "metadata": {
  "kernelspec": {
   "display_name": "Python (dojo-env)",
   "language": "python",
   "name": "dojo-env"
  },
  "language_info": {
   "codemirror_mode": {
    "name": "ipython",
    "version": 3
   },
   "file_extension": ".py",
   "mimetype": "text/x-python",
   "name": "python",
   "nbconvert_exporter": "python",
   "pygments_lexer": "ipython3",
   "version": "3.8.13"
  },
  "toc": {
   "base_numbering": 1,
   "nav_menu": {},
   "number_sections": false,
   "sideBar": true,
   "skip_h1_title": false,
   "title_cell": "Table of Contents",
   "title_sidebar": "Contents",
   "toc_cell": false,
   "toc_position": {
    "height": "calc(100% - 180px)",
    "left": "10px",
    "top": "150px",
    "width": "299.195px"
   },
   "toc_section_display": true,
   "toc_window_display": true
  }
 },
 "nbformat": 4,
 "nbformat_minor": 5
}
